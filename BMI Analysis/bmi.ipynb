{
 "cells": [
  {
   "cell_type": "code",
   "execution_count": 3,
   "metadata": {},
   "outputs": [
    {
     "name": "stdout",
     "output_type": "stream",
     "text": [
      "['180', '180', '170', '200', '170', '180', '140', '190', '180', '130', '150', '220', '185', '110', '165', '300', '150', '86', '140', '300', '155', '150', '182', '178', '170', '150']\n"
     ]
    }
   ],
   "source": [
    "# open hw.txt\n",
    "with open('hw.txt', 'r') as file:\n",
    "    data = file.read().splitlines()\n",
    "    print(data)"
   ]
  },
  {
   "cell_type": "code",
   "execution_count": 7,
   "metadata": {},
   "outputs": [
    {
     "name": "stdout",
     "output_type": "stream",
     "text": [
      "[180, 180, 170, 200, 170, 180, 140, 190, 180, 130, 150, 220, 185, 110, 165, 300, 150, 86, 140, 300, 155, 150, 182, 178, 170, 150]\n"
     ]
    }
   ],
   "source": [
    "# map to convert list of string to list of int\n",
    "data = list(map(int, data))\n",
    "print(data)"
   ]
  },
  {
   "cell_type": "code",
   "execution_count": 11,
   "metadata": {},
   "outputs": [],
   "source": [
    "kg = []\n",
    "m = []\n",
    "for i in range(len(data)):\n",
    "    if i % 2 == 0:\n",
    "        m.append(data[i]/100)\n",
    "    else:\n",
    "        kg.append(data[i]/2.2)\n"
   ]
  },
  {
   "cell_type": "code",
   "execution_count": 36,
   "metadata": {},
   "outputs": [],
   "source": [
    "under_weight = []\n",
    "normal_weight = []\n",
    "over_weight = []\n",
    "obese = []\n",
    "total_bmi = 0\n",
    "for i in range(len(m)):\n",
    "    bmi = round(kg[i]/(m[i]**2), 4)\n",
    "    total_bmi += bmi\n",
    "    if bmi < 18.5:\n",
    "        under_weight.append({'index': i+1, 'bmi': bmi})\n",
    "    elif bmi < 25:\n",
    "        normal_weight.append({'index': i+1, 'bmi': bmi})\n",
    "    elif bmi < 30:\n",
    "        over_weight.append({'index': i+1, 'bmi': bmi})\n",
    "    else:\n",
    "        obese.append({'index': i+1, 'bmi': bmi})\n",
    "\n"
   ]
  },
  {
   "cell_type": "code",
   "execution_count": 37,
   "metadata": {},
   "outputs": [
    {
     "data": {
      "text/plain": [
       "[{'index': 5, 'bmi': 18.2379},\n",
       " {'index': 7, 'bmi': 14.6092},\n",
       " {'index': 9, 'bmi': 17.3737}]"
      ]
     },
     "execution_count": 37,
     "metadata": {},
     "output_type": "execute_result"
    }
   ],
   "source": [
    "under_weight"
   ]
  },
  {
   "cell_type": "code",
   "execution_count": 39,
   "metadata": {},
   "outputs": [
    {
     "name": "stdout",
     "output_type": "stream",
     "text": [
      "Under Weight:\n",
      "Person - 5 : 18.2379\n",
      "Person - 7 : 14.6092\n",
      "Person - 9 : 17.3737\n",
      "Group Size: 3\n",
      "Average BMI for this group: 16.7403\n",
      "Normal:\n",
      "Person - 12 : 24.4261\n",
      "Person - 13 : 23.5923\n",
      "Group Size: 2\n",
      "Average BMI for this group: 24.0092\n",
      "Over Weight:\n",
      "Person - 1 : 25.2525\n",
      "Person - 3 : 28.3108\n",
      "Person - 11 : 28.3795\n",
      "Group Size: 3\n",
      "Average BMI for this group: 27.3143\n",
      "Obesity:\n",
      "Person - 2 : 31.4564\n",
      "Person - 4 : 44.0631\n",
      "Person - 6 : 44.4444\n",
      "Person - 8 : 50.0877\n",
      "Person - 10 : 69.5733\n",
      "Group Size: 5\n",
      "Average BMI for this group: 47.925\n",
      "The file has records for: 13 persons\n",
      "Average BMI for all 13 persons: 32.2928\n"
     ]
    }
   ],
   "source": [
    "print('Under Weight:')\n",
    "for i in under_weight:\n",
    "    print(f'Person - {i.get(\"index\")} : {i.get(\"bmi\")}')\n",
    "print(f'Group Size: {len(under_weight)}')\n",
    "print(f'Average BMI for this group: {round(sum([i.get(\"bmi\") for i in under_weight])/len(under_weight), 4)}')\n",
    "\n",
    "print('Normal:')\n",
    "for i in normal_weight:\n",
    "    print(f'Person - {i.get(\"index\")} : {i.get(\"bmi\")}')\n",
    "print(f'Group Size: {len(normal_weight)}')\n",
    "print(f'Average BMI for this group: {round(sum([i.get(\"bmi\") for i in normal_weight])/len(normal_weight), 4)}')\n",
    "\n",
    "print('Over Weight:')\n",
    "for i in over_weight:\n",
    "    print(f'Person - {i.get(\"index\")} : {i.get(\"bmi\")}')\n",
    "print(f'Group Size: {len(over_weight)}')\n",
    "print(f'Average BMI for this group: {round(sum([i.get(\"bmi\") for i in over_weight])/len(over_weight), 4)}')\n",
    "\n",
    "print('Obesity:')\n",
    "for i in obese:\n",
    "    print(f'Person - {i.get(\"index\")} : {i.get(\"bmi\")}')\n",
    "print(f'Group Size: {len(obese)}')\n",
    "print(f'Average BMI for this group: {round(sum([i.get(\"bmi\") for i in obese])/len(obese), 4)}')\n",
    "\n",
    "print(f'The file has records for: {len(m)} persons')\n",
    "print(f'Average BMI for all {len(m)} persons: {round(total_bmi/len(m), 4)}')"
   ]
  },
  {
   "cell_type": "code",
   "execution_count": null,
   "metadata": {},
   "outputs": [],
   "source": []
  }
 ],
 "metadata": {
  "kernelspec": {
   "display_name": "AML1214",
   "language": "python",
   "name": "python3"
  },
  "language_info": {
   "codemirror_mode": {
    "name": "ipython",
    "version": 3
   },
   "file_extension": ".py",
   "mimetype": "text/x-python",
   "name": "python",
   "nbconvert_exporter": "python",
   "pygments_lexer": "ipython3",
   "version": "3.8.13"
  },
  "orig_nbformat": 4
 },
 "nbformat": 4,
 "nbformat_minor": 2
}
